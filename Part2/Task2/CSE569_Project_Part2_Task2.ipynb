{
  "nbformat": 4,
  "nbformat_minor": 0,
  "metadata": {
    "colab": {
      "name": "CSE569 Project Part2 Task2.ipynb",
      "provenance": [],
      "collapsed_sections": []
    },
    "kernelspec": {
      "name": "python3",
      "display_name": "Python 3"
    }
  },
  "cells": [
    {
      "cell_type": "markdown",
      "metadata": {
        "id": "xlNReDdbcuHW"
      },
      "source": [
        "Baseline Model"
      ]
    },
    {
      "cell_type": "code",
      "metadata": {
        "id": "taFxo-kQKsyY"
      },
      "source": [
        "import keras\n",
        "from keras.datasets import mnist\n",
        "from keras.models import Sequential\n",
        "from keras.layers import Dense, Dropout, Flatten\n",
        "from keras.layers import Conv2D, MaxPooling2D\n",
        "from keras import backend as K"
      ],
      "execution_count": 1,
      "outputs": []
    },
    {
      "cell_type": "code",
      "metadata": {
        "id": "krLFcSNwK9ww"
      },
      "source": [
        "batch_size = 128\n",
        "num_classes = 10\n",
        "epochs = 12"
      ],
      "execution_count": 2,
      "outputs": []
    },
    {
      "cell_type": "code",
      "metadata": {
        "id": "uDjR2Z19LAHG"
      },
      "source": [
        "# input image dimensions\n",
        "img_rows, img_cols = 28, 28"
      ],
      "execution_count": 3,
      "outputs": []
    },
    {
      "cell_type": "code",
      "metadata": {
        "id": "tKNXzK-LLCVg"
      },
      "source": [
        "# the data, split between train and test sets\n",
        "(x_train, y_train), (x_test, y_test) = mnist.load_data()"
      ],
      "execution_count": 4,
      "outputs": []
    },
    {
      "cell_type": "code",
      "metadata": {
        "id": "oGLC7JoJLFo8"
      },
      "source": [
        "if K.image_data_format() == 'channels_first':\n",
        "    x_train = x_train.reshape(x_train.shape[0], 1, img_rows, img_cols)\n",
        "    x_test = x_test.reshape(x_test.shape[0], 1, img_rows, img_cols)\n",
        "    input_shape = (1, img_rows, img_cols)\n",
        "else:\n",
        "    x_train = x_train.reshape(x_train.shape[0], img_rows, img_cols, 1)\n",
        "    x_test = x_test.reshape(x_test.shape[0], img_rows, img_cols, 1)\n",
        "    input_shape = (img_rows, img_cols, 1)"
      ],
      "execution_count": 5,
      "outputs": []
    },
    {
      "cell_type": "code",
      "metadata": {
        "colab": {
          "base_uri": "https://localhost:8080/"
        },
        "id": "g6smM_HELJcO",
        "outputId": "26ed7345-a7f0-4a33-cee3-e6816e485845"
      },
      "source": [
        "x_train = x_train.astype('float32')\n",
        "x_test = x_test.astype('float32')\n",
        "x_train /= 255\n",
        "x_test /= 255\n",
        "print('x_train shape:', x_train.shape)\n",
        "print(x_train.shape[0], 'training samples')\n",
        "print(x_test.shape[0], 'testing samples')"
      ],
      "execution_count": 6,
      "outputs": [
        {
          "output_type": "stream",
          "text": [
            "x_train shape: (60000, 28, 28, 1)\n",
            "60000 training samples\n",
            "10000 testing samples\n"
          ],
          "name": "stdout"
        }
      ]
    },
    {
      "cell_type": "code",
      "metadata": {
        "id": "0AabC8b5LLnH"
      },
      "source": [
        "# convert class vectors to binary class matrices\n",
        "y_train = keras.utils.to_categorical(y_train, num_classes)\n",
        "y_test = keras.utils.to_categorical(y_test, num_classes)"
      ],
      "execution_count": 7,
      "outputs": []
    },
    {
      "cell_type": "code",
      "metadata": {
        "id": "fbkPf1b_LNxb"
      },
      "source": [
        "model = Sequential()\n",
        "model.add(Conv2D(6, kernel_size=(3, 3),\n",
        "                 activation='relu',\n",
        "                 input_shape=input_shape))\n",
        "model.add(MaxPooling2D(pool_size=(2, 2)))\n",
        "model.add(Conv2D(16, (3, 3), activation='relu'))\n",
        "model.add(MaxPooling2D(pool_size=(2, 2)))\n",
        "model.add(Flatten())\n",
        "model.add(Dense(120, activation='relu'))\n",
        "model.add(Dense(84, activation='relu'))\n",
        "\n",
        "\n",
        "model.add(Dense(num_classes, activation='softmax'))"
      ],
      "execution_count": 45,
      "outputs": []
    },
    {
      "cell_type": "code",
      "metadata": {
        "id": "fXILAwc2LQwe"
      },
      "source": [
        "# https://keras.io/optimizers/ \n",
        "model.compile(loss=keras.losses.categorical_crossentropy,\n",
        "              optimizer=keras.optimizers.Adadelta(lr=1.0, rho=0.95, epsilon=None, decay=0.0),\n",
        "              metrics=['accuracy'])"
      ],
      "execution_count": 46,
      "outputs": []
    },
    {
      "cell_type": "code",
      "metadata": {
        "colab": {
          "base_uri": "https://localhost:8080/"
        },
        "id": "5itmm2epLTmg",
        "outputId": "b5b36023-79f3-4f61-ef5c-11770762d783"
      },
      "source": [
        "model.fit(x_train, y_train,\n",
        "          batch_size=batch_size,\n",
        "          epochs=epochs,\n",
        "          verbose=1,\n",
        "          validation_data=(x_test, y_test))"
      ],
      "execution_count": 47,
      "outputs": [
        {
          "output_type": "stream",
          "text": [
            "Epoch 1/12\n",
            "469/469 [==============================] - 22s 47ms/step - loss: 0.2813 - accuracy: 0.9115 - val_loss: 0.0996 - val_accuracy: 0.9687\n",
            "Epoch 2/12\n",
            "469/469 [==============================] - 21s 46ms/step - loss: 0.0769 - accuracy: 0.9761 - val_loss: 0.0611 - val_accuracy: 0.9806\n",
            "Epoch 3/12\n",
            "469/469 [==============================] - 21s 46ms/step - loss: 0.0550 - accuracy: 0.9826 - val_loss: 0.0428 - val_accuracy: 0.9865\n",
            "Epoch 4/12\n",
            "469/469 [==============================] - 22s 46ms/step - loss: 0.0431 - accuracy: 0.9864 - val_loss: 0.0366 - val_accuracy: 0.9884\n",
            "Epoch 5/12\n",
            "469/469 [==============================] - 21s 46ms/step - loss: 0.0359 - accuracy: 0.9882 - val_loss: 0.0388 - val_accuracy: 0.9873\n",
            "Epoch 6/12\n",
            "469/469 [==============================] - 22s 46ms/step - loss: 0.0303 - accuracy: 0.9902 - val_loss: 0.0379 - val_accuracy: 0.9876\n",
            "Epoch 7/12\n",
            "469/469 [==============================] - 21s 45ms/step - loss: 0.0256 - accuracy: 0.9921 - val_loss: 0.0305 - val_accuracy: 0.9902\n",
            "Epoch 8/12\n",
            "469/469 [==============================] - 22s 46ms/step - loss: 0.0219 - accuracy: 0.9929 - val_loss: 0.0383 - val_accuracy: 0.9884\n",
            "Epoch 9/12\n",
            "469/469 [==============================] - 22s 46ms/step - loss: 0.0190 - accuracy: 0.9944 - val_loss: 0.0338 - val_accuracy: 0.9905\n",
            "Epoch 10/12\n",
            "469/469 [==============================] - 21s 46ms/step - loss: 0.0169 - accuracy: 0.9947 - val_loss: 0.0311 - val_accuracy: 0.9906\n",
            "Epoch 11/12\n",
            "469/469 [==============================] - 22s 46ms/step - loss: 0.0143 - accuracy: 0.9954 - val_loss: 0.0389 - val_accuracy: 0.9887\n",
            "Epoch 12/12\n",
            "469/469 [==============================] - 22s 46ms/step - loss: 0.0124 - accuracy: 0.9957 - val_loss: 0.0317 - val_accuracy: 0.9910\n"
          ],
          "name": "stdout"
        },
        {
          "output_type": "execute_result",
          "data": {
            "text/plain": [
              "<tensorflow.python.keras.callbacks.History at 0x7fa73c0d6fd0>"
            ]
          },
          "metadata": {
            "tags": []
          },
          "execution_count": 47
        }
      ]
    },
    {
      "cell_type": "code",
      "metadata": {
        "colab": {
          "base_uri": "https://localhost:8080/"
        },
        "id": "kg9dbmW7LWDB",
        "outputId": "653459c8-5ea4-4236-93ee-c0bfc09109b8"
      },
      "source": [
        "score = model.evaluate(x_test, y_test, verbose=0)\n",
        "print('Test loss:', score[0])\n",
        "print('Test accuracy:', score[1])"
      ],
      "execution_count": 48,
      "outputs": [
        {
          "output_type": "stream",
          "text": [
            "Test loss: 0.03171538934111595\n",
            "Test accuracy: 0.9909999966621399\n"
          ],
          "name": "stdout"
        }
      ]
    },
    {
      "cell_type": "markdown",
      "metadata": {
        "id": "wIXhpwMUc2LQ"
      },
      "source": [
        "Change #1: Kernel Size -> 2x2"
      ]
    },
    {
      "cell_type": "code",
      "metadata": {
        "id": "3T1km_ThMukU",
        "colab": {
          "base_uri": "https://localhost:8080/"
        },
        "outputId": "eb932510-a8a2-45c5-9cf9-a7977220aada"
      },
      "source": [
        "model = Sequential()\r\n",
        "model.add(Conv2D(6, kernel_size=(2, 2),\r\n",
        "                 activation='relu',\r\n",
        "                 input_shape=input_shape))\r\n",
        "model.add(MaxPooling2D(pool_size=(2, 2)))\r\n",
        "model.add(Conv2D(16, (3, 3), activation='relu'))\r\n",
        "model.add(MaxPooling2D(pool_size=(2, 2)))\r\n",
        "model.add(Flatten())\r\n",
        "model.add(Dense(120, activation='relu'))\r\n",
        "model.add(Dense(84, activation='relu'))\r\n",
        "\r\n",
        "\r\n",
        "model.add(Dense(num_classes, activation='softmax'))\r\n",
        "\r\n",
        "# https://keras.io/optimizers/ \r\n",
        "model.compile(loss=keras.losses.categorical_crossentropy,\r\n",
        "              optimizer=keras.optimizers.Adadelta(lr=1.0, rho=0.95, epsilon=None, decay=0.0),\r\n",
        "              metrics=['accuracy'])\r\n",
        "\r\n",
        "model.fit(x_train, y_train,\r\n",
        "          batch_size=batch_size,\r\n",
        "          epochs=epochs,\r\n",
        "          verbose=1,\r\n",
        "          validation_data=(x_test, y_test))"
      ],
      "execution_count": 26,
      "outputs": [
        {
          "output_type": "stream",
          "text": [
            "Epoch 1/12\n",
            "469/469 [==============================] - 19s 40ms/step - loss: 0.3204 - accuracy: 0.8992 - val_loss: 0.0838 - val_accuracy: 0.9725\n",
            "Epoch 2/12\n",
            "469/469 [==============================] - 19s 40ms/step - loss: 0.0807 - accuracy: 0.9750 - val_loss: 0.0712 - val_accuracy: 0.9766\n",
            "Epoch 3/12\n",
            "469/469 [==============================] - 19s 40ms/step - loss: 0.0589 - accuracy: 0.9819 - val_loss: 0.0684 - val_accuracy: 0.9768\n",
            "Epoch 4/12\n",
            "469/469 [==============================] - 19s 40ms/step - loss: 0.0457 - accuracy: 0.9858 - val_loss: 0.0497 - val_accuracy: 0.9835\n",
            "Epoch 5/12\n",
            "469/469 [==============================] - 19s 40ms/step - loss: 0.0386 - accuracy: 0.9880 - val_loss: 0.0390 - val_accuracy: 0.9878\n",
            "Epoch 6/12\n",
            "469/469 [==============================] - 19s 40ms/step - loss: 0.0320 - accuracy: 0.9899 - val_loss: 0.0415 - val_accuracy: 0.9863\n",
            "Epoch 7/12\n",
            "469/469 [==============================] - 19s 40ms/step - loss: 0.0278 - accuracy: 0.9913 - val_loss: 0.0378 - val_accuracy: 0.9879\n",
            "Epoch 8/12\n",
            "469/469 [==============================] - 19s 40ms/step - loss: 0.0238 - accuracy: 0.9923 - val_loss: 0.0449 - val_accuracy: 0.9857\n",
            "Epoch 9/12\n",
            "469/469 [==============================] - 19s 40ms/step - loss: 0.0202 - accuracy: 0.9938 - val_loss: 0.0387 - val_accuracy: 0.9878\n",
            "Epoch 10/12\n",
            "469/469 [==============================] - 19s 40ms/step - loss: 0.0180 - accuracy: 0.9945 - val_loss: 0.0394 - val_accuracy: 0.9874\n",
            "Epoch 11/12\n",
            "469/469 [==============================] - 19s 40ms/step - loss: 0.0155 - accuracy: 0.9949 - val_loss: 0.0585 - val_accuracy: 0.9823\n",
            "Epoch 12/12\n",
            "469/469 [==============================] - 19s 40ms/step - loss: 0.0132 - accuracy: 0.9960 - val_loss: 0.0410 - val_accuracy: 0.9879\n"
          ],
          "name": "stdout"
        },
        {
          "output_type": "execute_result",
          "data": {
            "text/plain": [
              "<tensorflow.python.keras.callbacks.History at 0x7fa74179ef98>"
            ]
          },
          "metadata": {
            "tags": []
          },
          "execution_count": 26
        }
      ]
    },
    {
      "cell_type": "code",
      "metadata": {
        "id": "-vF4NEQBdGrI",
        "colab": {
          "base_uri": "https://localhost:8080/"
        },
        "outputId": "2d781f3f-df68-4fb5-adb4-9f52ba466533"
      },
      "source": [
        "score = model.evaluate(x_test, y_test, verbose=0)\r\n",
        "print('Test loss:', score[0])\r\n",
        "print('Test accuracy:', score[1])"
      ],
      "execution_count": 27,
      "outputs": [
        {
          "output_type": "stream",
          "text": [
            "Test loss: 0.040984321385622025\n",
            "Test accuracy: 0.9879000186920166\n"
          ],
          "name": "stdout"
        }
      ]
    },
    {
      "cell_type": "markdown",
      "metadata": {
        "id": "T2DFSGUWezec"
      },
      "source": [
        "Change #2: Kernel Size -> 4x4"
      ]
    },
    {
      "cell_type": "code",
      "metadata": {
        "colab": {
          "base_uri": "https://localhost:8080/"
        },
        "id": "IoxaEYwkeyYg",
        "outputId": "89171556-5402-467f-e3ff-ed05de33e741"
      },
      "source": [
        "model = Sequential()\r\n",
        "model.add(Conv2D(6, kernel_size=(4, 4),\r\n",
        "                 activation='relu',\r\n",
        "                 input_shape=input_shape))\r\n",
        "model.add(MaxPooling2D(pool_size=(2, 2)))\r\n",
        "model.add(Conv2D(16, (3, 3), activation='relu'))\r\n",
        "model.add(MaxPooling2D(pool_size=(2, 2)))\r\n",
        "model.add(Flatten())\r\n",
        "model.add(Dense(120, activation='relu'))\r\n",
        "model.add(Dense(84, activation='relu'))\r\n",
        "\r\n",
        "\r\n",
        "model.add(Dense(num_classes, activation='softmax'))\r\n",
        "\r\n",
        "# https://keras.io/optimizers/ \r\n",
        "model.compile(loss=keras.losses.categorical_crossentropy,\r\n",
        "              optimizer=keras.optimizers.Adadelta(lr=1.0, rho=0.95, epsilon=None, decay=0.0),\r\n",
        "              metrics=['accuracy'])\r\n",
        "\r\n",
        "model.fit(x_train, y_train,\r\n",
        "          batch_size=batch_size,\r\n",
        "          epochs=epochs,\r\n",
        "          verbose=1,\r\n",
        "          validation_data=(x_test, y_test))"
      ],
      "execution_count": 28,
      "outputs": [
        {
          "output_type": "stream",
          "text": [
            "Epoch 1/12\n",
            "469/469 [==============================] - 20s 43ms/step - loss: 0.2887 - accuracy: 0.9094 - val_loss: 0.0899 - val_accuracy: 0.9686\n",
            "Epoch 2/12\n",
            "469/469 [==============================] - 20s 43ms/step - loss: 0.0698 - accuracy: 0.9787 - val_loss: 0.0522 - val_accuracy: 0.9821\n",
            "Epoch 3/12\n",
            "469/469 [==============================] - 20s 43ms/step - loss: 0.0509 - accuracy: 0.9842 - val_loss: 0.0468 - val_accuracy: 0.9854\n",
            "Epoch 4/12\n",
            "469/469 [==============================] - 20s 43ms/step - loss: 0.0411 - accuracy: 0.9874 - val_loss: 0.0450 - val_accuracy: 0.9851\n",
            "Epoch 5/12\n",
            "469/469 [==============================] - 20s 43ms/step - loss: 0.0345 - accuracy: 0.9893 - val_loss: 0.0391 - val_accuracy: 0.9872\n",
            "Epoch 6/12\n",
            "469/469 [==============================] - 20s 43ms/step - loss: 0.0283 - accuracy: 0.9913 - val_loss: 0.0372 - val_accuracy: 0.9885\n",
            "Epoch 7/12\n",
            "469/469 [==============================] - 21s 44ms/step - loss: 0.0237 - accuracy: 0.9924 - val_loss: 0.0343 - val_accuracy: 0.9883\n",
            "Epoch 8/12\n",
            "469/469 [==============================] - 20s 43ms/step - loss: 0.0202 - accuracy: 0.9938 - val_loss: 0.0333 - val_accuracy: 0.9896\n",
            "Epoch 9/12\n",
            "469/469 [==============================] - 20s 44ms/step - loss: 0.0173 - accuracy: 0.9948 - val_loss: 0.0324 - val_accuracy: 0.9898\n",
            "Epoch 10/12\n",
            "469/469 [==============================] - 20s 43ms/step - loss: 0.0153 - accuracy: 0.9955 - val_loss: 0.0297 - val_accuracy: 0.9911\n",
            "Epoch 11/12\n",
            "469/469 [==============================] - 20s 43ms/step - loss: 0.0122 - accuracy: 0.9965 - val_loss: 0.0309 - val_accuracy: 0.9904\n",
            "Epoch 12/12\n",
            "469/469 [==============================] - 20s 43ms/step - loss: 0.0115 - accuracy: 0.9965 - val_loss: 0.0329 - val_accuracy: 0.9900\n"
          ],
          "name": "stdout"
        },
        {
          "output_type": "execute_result",
          "data": {
            "text/plain": [
              "<tensorflow.python.keras.callbacks.History at 0x7fa741658da0>"
            ]
          },
          "metadata": {
            "tags": []
          },
          "execution_count": 28
        }
      ]
    },
    {
      "cell_type": "code",
      "metadata": {
        "colab": {
          "base_uri": "https://localhost:8080/"
        },
        "id": "HQ0AoX6rgTLp",
        "outputId": "4f7fcbba-1bd4-4be6-d0ba-a9bca0991ea1"
      },
      "source": [
        "score = model.evaluate(x_test, y_test, verbose=0)\r\n",
        "print('Test loss:', score[0])\r\n",
        "print('Test accuracy:', score[1])"
      ],
      "execution_count": 30,
      "outputs": [
        {
          "output_type": "stream",
          "text": [
            "Test loss: 0.032850585877895355\n",
            "Test accuracy: 0.9900000095367432\n"
          ],
          "name": "stdout"
        }
      ]
    },
    {
      "cell_type": "markdown",
      "metadata": {
        "id": "D3PstI94gVtJ"
      },
      "source": [
        "Change #3: Kernel Size -> 5x5"
      ]
    },
    {
      "cell_type": "code",
      "metadata": {
        "colab": {
          "base_uri": "https://localhost:8080/"
        },
        "id": "kuY9rpRQgU97",
        "outputId": "5d6ad9ea-5ae6-451c-d8b9-a12138110fd5"
      },
      "source": [
        "model = Sequential()\r\n",
        "model.add(Conv2D(6, kernel_size=(5, 5),\r\n",
        "                 activation='relu',\r\n",
        "                 input_shape=input_shape))\r\n",
        "model.add(MaxPooling2D(pool_size=(2, 2)))\r\n",
        "model.add(Conv2D(16, (3, 3), activation='relu'))\r\n",
        "model.add(MaxPooling2D(pool_size=(2, 2)))\r\n",
        "model.add(Flatten())\r\n",
        "model.add(Dense(120, activation='relu'))\r\n",
        "model.add(Dense(84, activation='relu'))\r\n",
        "\r\n",
        "\r\n",
        "model.add(Dense(num_classes, activation='softmax'))\r\n",
        "\r\n",
        "# https://keras.io/optimizers/ \r\n",
        "model.compile(loss=keras.losses.categorical_crossentropy,\r\n",
        "              optimizer=keras.optimizers.Adadelta(lr=1.0, rho=0.95, epsilon=None, decay=0.0),\r\n",
        "              metrics=['accuracy'])\r\n",
        "\r\n",
        "model.fit(x_train, y_train,\r\n",
        "          batch_size=batch_size,\r\n",
        "          epochs=epochs,\r\n",
        "          verbose=1,\r\n",
        "          validation_data=(x_test, y_test))"
      ],
      "execution_count": 31,
      "outputs": [
        {
          "output_type": "stream",
          "text": [
            "Epoch 1/12\n",
            "469/469 [==============================] - 23s 49ms/step - loss: 0.2828 - accuracy: 0.9096 - val_loss: 0.0607 - val_accuracy: 0.9799\n",
            "Epoch 2/12\n",
            "469/469 [==============================] - 23s 49ms/step - loss: 0.0673 - accuracy: 0.9790 - val_loss: 0.0668 - val_accuracy: 0.9779\n",
            "Epoch 3/12\n",
            "469/469 [==============================] - 23s 49ms/step - loss: 0.0484 - accuracy: 0.9853 - val_loss: 0.0384 - val_accuracy: 0.9873\n",
            "Epoch 4/12\n",
            "469/469 [==============================] - 23s 49ms/step - loss: 0.0380 - accuracy: 0.9883 - val_loss: 0.0336 - val_accuracy: 0.9879\n",
            "Epoch 5/12\n",
            "469/469 [==============================] - 23s 49ms/step - loss: 0.0314 - accuracy: 0.9900 - val_loss: 0.0356 - val_accuracy: 0.9878\n",
            "Epoch 6/12\n",
            "469/469 [==============================] - 23s 49ms/step - loss: 0.0261 - accuracy: 0.9919 - val_loss: 0.0323 - val_accuracy: 0.9888\n",
            "Epoch 7/12\n",
            "469/469 [==============================] - 23s 50ms/step - loss: 0.0222 - accuracy: 0.9931 - val_loss: 0.0326 - val_accuracy: 0.9891\n",
            "Epoch 8/12\n",
            "469/469 [==============================] - 23s 49ms/step - loss: 0.0184 - accuracy: 0.9943 - val_loss: 0.0269 - val_accuracy: 0.9908\n",
            "Epoch 9/12\n",
            "469/469 [==============================] - 23s 49ms/step - loss: 0.0160 - accuracy: 0.9952 - val_loss: 0.0289 - val_accuracy: 0.9902\n",
            "Epoch 10/12\n",
            "469/469 [==============================] - 23s 50ms/step - loss: 0.0134 - accuracy: 0.9958 - val_loss: 0.0299 - val_accuracy: 0.9908\n",
            "Epoch 11/12\n",
            "469/469 [==============================] - 23s 50ms/step - loss: 0.0118 - accuracy: 0.9966 - val_loss: 0.0313 - val_accuracy: 0.9901\n",
            "Epoch 12/12\n",
            "469/469 [==============================] - 23s 49ms/step - loss: 0.0099 - accuracy: 0.9972 - val_loss: 0.0339 - val_accuracy: 0.9893\n"
          ],
          "name": "stdout"
        },
        {
          "output_type": "execute_result",
          "data": {
            "text/plain": [
              "<tensorflow.python.keras.callbacks.History at 0x7fa748025b70>"
            ]
          },
          "metadata": {
            "tags": []
          },
          "execution_count": 31
        }
      ]
    },
    {
      "cell_type": "code",
      "metadata": {
        "colab": {
          "base_uri": "https://localhost:8080/"
        },
        "id": "PfEZ8_pkgeSo",
        "outputId": "d49e082c-aeeb-449c-bb3a-20b253c0cb12"
      },
      "source": [
        "score = model.evaluate(x_test, y_test, verbose=0)\r\n",
        "print('Test loss:', score[0])\r\n",
        "print('Test accuracy:', score[1])"
      ],
      "execution_count": 32,
      "outputs": [
        {
          "output_type": "stream",
          "text": [
            "Test loss: 0.03385765478014946\n",
            "Test accuracy: 0.989300012588501\n"
          ],
          "name": "stdout"
        }
      ]
    },
    {
      "cell_type": "markdown",
      "metadata": {
        "id": "hNqJ-ylSglmw"
      },
      "source": [
        "Change #4: Learning Rate -> 0.009"
      ]
    },
    {
      "cell_type": "code",
      "metadata": {
        "colab": {
          "base_uri": "https://localhost:8080/"
        },
        "id": "s3wqPn08geq-",
        "outputId": "28585c9f-870d-4ded-e6fa-ce33be187f8e"
      },
      "source": [
        "model = Sequential()\r\n",
        "model.add(Conv2D(6, kernel_size=(3, 3),\r\n",
        "                 activation='relu',\r\n",
        "                 input_shape=input_shape))\r\n",
        "model.add(MaxPooling2D(pool_size=(2, 2)))\r\n",
        "model.add(Conv2D(16, (3, 3), activation='relu'))\r\n",
        "model.add(MaxPooling2D(pool_size=(2, 2)))\r\n",
        "model.add(Flatten())\r\n",
        "model.add(Dense(120, activation='relu'))\r\n",
        "model.add(Dense(84, activation='relu'))\r\n",
        "\r\n",
        "\r\n",
        "model.add(Dense(num_classes, activation='softmax'))\r\n",
        "\r\n",
        "# https://keras.io/optimizers/ \r\n",
        "model.compile(loss=keras.losses.categorical_crossentropy,\r\n",
        "              optimizer=keras.optimizers.Adadelta(lr=0.009, rho=0.95, epsilon=None, decay=0.0),\r\n",
        "              metrics=['accuracy'])\r\n",
        "\r\n",
        "model.fit(x_train, y_train,\r\n",
        "          batch_size=batch_size,\r\n",
        "          epochs=epochs,\r\n",
        "          verbose=1,\r\n",
        "          validation_data=(x_test, y_test))"
      ],
      "execution_count": 20,
      "outputs": [
        {
          "output_type": "stream",
          "text": [
            "Epoch 1/12\n",
            "469/469 [==============================] - 21s 45ms/step - loss: 2.2865 - accuracy: 0.1395 - val_loss: 2.2586 - val_accuracy: 0.1710\n",
            "Epoch 2/12\n",
            "469/469 [==============================] - 21s 45ms/step - loss: 2.2092 - accuracy: 0.3224 - val_loss: 2.1404 - val_accuracy: 0.4384\n",
            "Epoch 3/12\n",
            "469/469 [==============================] - 21s 46ms/step - loss: 1.9789 - accuracy: 0.5462 - val_loss: 1.7327 - val_accuracy: 0.6365\n",
            "Epoch 4/12\n",
            "469/469 [==============================] - 21s 46ms/step - loss: 1.3691 - accuracy: 0.6897 - val_loss: 1.0324 - val_accuracy: 0.7538\n",
            "Epoch 5/12\n",
            "469/469 [==============================] - 21s 45ms/step - loss: 0.8610 - accuracy: 0.7753 - val_loss: 0.7253 - val_accuracy: 0.8059\n",
            "Epoch 6/12\n",
            "469/469 [==============================] - 21s 45ms/step - loss: 0.6622 - accuracy: 0.8166 - val_loss: 0.5955 - val_accuracy: 0.8389\n",
            "Epoch 7/12\n",
            "469/469 [==============================] - 21s 45ms/step - loss: 0.5637 - accuracy: 0.8431 - val_loss: 0.5189 - val_accuracy: 0.8588\n",
            "Epoch 8/12\n",
            "469/469 [==============================] - 21s 46ms/step - loss: 0.4998 - accuracy: 0.8615 - val_loss: 0.4638 - val_accuracy: 0.8736\n",
            "Epoch 9/12\n",
            "469/469 [==============================] - 21s 46ms/step - loss: 0.4527 - accuracy: 0.8743 - val_loss: 0.4224 - val_accuracy: 0.8855\n",
            "Epoch 10/12\n",
            "469/469 [==============================] - 21s 45ms/step - loss: 0.4161 - accuracy: 0.8842 - val_loss: 0.3895 - val_accuracy: 0.8942\n",
            "Epoch 11/12\n",
            "469/469 [==============================] - 21s 45ms/step - loss: 0.3862 - accuracy: 0.8925 - val_loss: 0.3628 - val_accuracy: 0.9034\n",
            "Epoch 12/12\n",
            "469/469 [==============================] - 21s 45ms/step - loss: 0.3607 - accuracy: 0.9005 - val_loss: 0.3389 - val_accuracy: 0.9092\n"
          ],
          "name": "stdout"
        },
        {
          "output_type": "execute_result",
          "data": {
            "text/plain": [
              "<tensorflow.python.keras.callbacks.History at 0x7fa743a7dac8>"
            ]
          },
          "metadata": {
            "tags": []
          },
          "execution_count": 20
        }
      ]
    },
    {
      "cell_type": "code",
      "metadata": {
        "colab": {
          "base_uri": "https://localhost:8080/"
        },
        "id": "Alrf5nDdgtM8",
        "outputId": "38c79720-4894-4c96-e9f7-0f234f72ca44"
      },
      "source": [
        "score = model.evaluate(x_test, y_test, verbose=0)\r\n",
        "print('Test loss:', score[0])\r\n",
        "print('Test accuracy:', score[1])"
      ],
      "execution_count": 21,
      "outputs": [
        {
          "output_type": "stream",
          "text": [
            "Test loss: 0.33893004059791565\n",
            "Test accuracy: 0.9092000126838684\n"
          ],
          "name": "stdout"
        }
      ]
    },
    {
      "cell_type": "markdown",
      "metadata": {
        "id": "moxvnOAdjvRH"
      },
      "source": [
        "Change #5: Learning Rate -> 0.9"
      ]
    },
    {
      "cell_type": "code",
      "metadata": {
        "colab": {
          "base_uri": "https://localhost:8080/"
        },
        "id": "iu82_rBggusc",
        "outputId": "6a297be4-a305-4dce-ca25-687109824b43"
      },
      "source": [
        "model = Sequential()\r\n",
        "model.add(Conv2D(6, kernel_size=(3, 3),\r\n",
        "                 activation='relu',\r\n",
        "                 input_shape=input_shape))\r\n",
        "model.add(MaxPooling2D(pool_size=(2, 2)))\r\n",
        "model.add(Conv2D(16, (3, 3), activation='relu'))\r\n",
        "model.add(MaxPooling2D(pool_size=(2, 2)))\r\n",
        "model.add(Flatten())\r\n",
        "model.add(Dense(120, activation='relu'))\r\n",
        "model.add(Dense(84, activation='relu'))\r\n",
        "\r\n",
        "\r\n",
        "model.add(Dense(num_classes, activation='softmax'))\r\n",
        "\r\n",
        "# https://keras.io/optimizers/ \r\n",
        "model.compile(loss=keras.losses.categorical_crossentropy,\r\n",
        "              optimizer=keras.optimizers.Adadelta(lr=0.9, rho=0.95, epsilon=None, decay=0.0),\r\n",
        "              metrics=['accuracy'])\r\n",
        "\r\n",
        "model.fit(x_train, y_train,\r\n",
        "          batch_size=batch_size,\r\n",
        "          epochs=epochs,\r\n",
        "          verbose=1,\r\n",
        "          validation_data=(x_test, y_test))"
      ],
      "execution_count": 35,
      "outputs": [
        {
          "output_type": "stream",
          "text": [
            "Epoch 1/12\n",
            "469/469 [==============================] - 22s 47ms/step - loss: 0.3318 - accuracy: 0.8932 - val_loss: 0.0952 - val_accuracy: 0.9687\n",
            "Epoch 2/12\n",
            "469/469 [==============================] - 22s 47ms/step - loss: 0.0793 - accuracy: 0.9759 - val_loss: 0.0613 - val_accuracy: 0.9783\n",
            "Epoch 3/12\n",
            "469/469 [==============================] - 22s 47ms/step - loss: 0.0554 - accuracy: 0.9830 - val_loss: 0.0439 - val_accuracy: 0.9851\n",
            "Epoch 4/12\n",
            "469/469 [==============================] - 22s 47ms/step - loss: 0.0432 - accuracy: 0.9866 - val_loss: 0.0389 - val_accuracy: 0.9864\n",
            "Epoch 5/12\n",
            "469/469 [==============================] - 22s 46ms/step - loss: 0.0358 - accuracy: 0.9885 - val_loss: 0.0421 - val_accuracy: 0.9869\n",
            "Epoch 6/12\n",
            "469/469 [==============================] - 22s 47ms/step - loss: 0.0302 - accuracy: 0.9905 - val_loss: 0.0315 - val_accuracy: 0.9893\n",
            "Epoch 7/12\n",
            "469/469 [==============================] - 22s 47ms/step - loss: 0.0258 - accuracy: 0.9920 - val_loss: 0.0361 - val_accuracy: 0.9872\n",
            "Epoch 8/12\n",
            "469/469 [==============================] - 22s 47ms/step - loss: 0.0222 - accuracy: 0.9931 - val_loss: 0.0331 - val_accuracy: 0.9892\n",
            "Epoch 9/12\n",
            "469/469 [==============================] - 22s 46ms/step - loss: 0.0197 - accuracy: 0.9937 - val_loss: 0.0331 - val_accuracy: 0.9896\n",
            "Epoch 10/12\n",
            "469/469 [==============================] - 22s 47ms/step - loss: 0.0169 - accuracy: 0.9945 - val_loss: 0.0308 - val_accuracy: 0.9897\n",
            "Epoch 11/12\n",
            "469/469 [==============================] - 22s 47ms/step - loss: 0.0147 - accuracy: 0.9953 - val_loss: 0.0302 - val_accuracy: 0.9905\n",
            "Epoch 12/12\n",
            "469/469 [==============================] - 22s 47ms/step - loss: 0.0124 - accuracy: 0.9963 - val_loss: 0.0326 - val_accuracy: 0.9901\n"
          ],
          "name": "stdout"
        },
        {
          "output_type": "execute_result",
          "data": {
            "text/plain": [
              "<tensorflow.python.keras.callbacks.History at 0x7fa737ffff98>"
            ]
          },
          "metadata": {
            "tags": []
          },
          "execution_count": 35
        }
      ]
    },
    {
      "cell_type": "code",
      "metadata": {
        "colab": {
          "base_uri": "https://localhost:8080/"
        },
        "id": "j09YASfQoGAM",
        "outputId": "264f0bec-43ea-4cfb-d9cf-5b450b52f4e2"
      },
      "source": [
        "score = model.evaluate(x_test, y_test, verbose=0)\r\n",
        "print('Test loss:', score[0])\r\n",
        "print('Test accuracy:', score[1])"
      ],
      "execution_count": 36,
      "outputs": [
        {
          "output_type": "stream",
          "text": [
            "Test loss: 0.03263479098677635\n",
            "Test accuracy: 0.9901000261306763\n"
          ],
          "name": "stdout"
        }
      ]
    },
    {
      "cell_type": "markdown",
      "metadata": {
        "id": "gG4VS6SQoIQT"
      },
      "source": [
        "Change #6: Layer3 -> 60 neurons; Layer 4-> 42 neurons"
      ]
    },
    {
      "cell_type": "code",
      "metadata": {
        "colab": {
          "base_uri": "https://localhost:8080/"
        },
        "id": "X2dakLC5oHaz",
        "outputId": "b659fa61-3961-4144-8939-2a0fda357b3e"
      },
      "source": [
        "model = Sequential()\r\n",
        "model.add(Conv2D(6, kernel_size=(3, 3),\r\n",
        "                 activation='relu',\r\n",
        "                 input_shape=input_shape))\r\n",
        "model.add(MaxPooling2D(pool_size=(2, 2)))\r\n",
        "model.add(Conv2D(16, (3, 3), activation='relu'))\r\n",
        "model.add(MaxPooling2D(pool_size=(2, 2)))\r\n",
        "model.add(Flatten())\r\n",
        "model.add(Dense(60, activation='relu'))\r\n",
        "model.add(Dense(42, activation='relu'))\r\n",
        "\r\n",
        "\r\n",
        "model.add(Dense(num_classes, activation='softmax'))\r\n",
        "\r\n",
        "# https://keras.io/optimizers/ \r\n",
        "model.compile(loss=keras.losses.categorical_crossentropy,\r\n",
        "              optimizer=keras.optimizers.Adadelta(lr=1.0, rho=0.95, epsilon=None, decay=0.0),\r\n",
        "              metrics=['accuracy'])\r\n",
        "\r\n",
        "model.fit(x_train, y_train,\r\n",
        "          batch_size=batch_size,\r\n",
        "          epochs=epochs,\r\n",
        "          verbose=1,\r\n",
        "          validation_data=(x_test, y_test))"
      ],
      "execution_count": 38,
      "outputs": [
        {
          "output_type": "stream",
          "text": [
            "Epoch 1/12\n",
            "469/469 [==============================] - 21s 45ms/step - loss: 0.3112 - accuracy: 0.9025 - val_loss: 0.0878 - val_accuracy: 0.9731\n",
            "Epoch 2/12\n",
            "469/469 [==============================] - 21s 45ms/step - loss: 0.0754 - accuracy: 0.9768 - val_loss: 0.0609 - val_accuracy: 0.9794\n",
            "Epoch 3/12\n",
            "469/469 [==============================] - 21s 45ms/step - loss: 0.0549 - accuracy: 0.9825 - val_loss: 0.0476 - val_accuracy: 0.9837\n",
            "Epoch 4/12\n",
            "469/469 [==============================] - 21s 46ms/step - loss: 0.0456 - accuracy: 0.9863 - val_loss: 0.0505 - val_accuracy: 0.9830\n",
            "Epoch 5/12\n",
            "469/469 [==============================] - 21s 46ms/step - loss: 0.0387 - accuracy: 0.9882 - val_loss: 0.0387 - val_accuracy: 0.9860\n",
            "Epoch 6/12\n",
            "469/469 [==============================] - 21s 45ms/step - loss: 0.0336 - accuracy: 0.9895 - val_loss: 0.0551 - val_accuracy: 0.9837\n",
            "Epoch 7/12\n",
            "469/469 [==============================] - 21s 46ms/step - loss: 0.0297 - accuracy: 0.9905 - val_loss: 0.0396 - val_accuracy: 0.9870\n",
            "Epoch 8/12\n",
            "469/469 [==============================] - 21s 46ms/step - loss: 0.0270 - accuracy: 0.9914 - val_loss: 0.0342 - val_accuracy: 0.9878\n",
            "Epoch 9/12\n",
            "469/469 [==============================] - 21s 45ms/step - loss: 0.0237 - accuracy: 0.9927 - val_loss: 0.0394 - val_accuracy: 0.9878\n",
            "Epoch 10/12\n",
            "469/469 [==============================] - 21s 45ms/step - loss: 0.0212 - accuracy: 0.9935 - val_loss: 0.0331 - val_accuracy: 0.9890\n",
            "Epoch 11/12\n",
            "469/469 [==============================] - 21s 45ms/step - loss: 0.0197 - accuracy: 0.9938 - val_loss: 0.0478 - val_accuracy: 0.9847\n",
            "Epoch 12/12\n",
            "469/469 [==============================] - 21s 45ms/step - loss: 0.0173 - accuracy: 0.9946 - val_loss: 0.0348 - val_accuracy: 0.9887\n"
          ],
          "name": "stdout"
        },
        {
          "output_type": "execute_result",
          "data": {
            "text/plain": [
              "<tensorflow.python.keras.callbacks.History at 0x7fa732caa630>"
            ]
          },
          "metadata": {
            "tags": []
          },
          "execution_count": 38
        }
      ]
    },
    {
      "cell_type": "code",
      "metadata": {
        "colab": {
          "base_uri": "https://localhost:8080/"
        },
        "id": "NgWG6pN5oTrN",
        "outputId": "a998fb2e-aec0-459e-e52d-d1c046a08fc9"
      },
      "source": [
        "score = model.evaluate(x_test, y_test, verbose=0)\r\n",
        "print('Test loss:', score[0])\r\n",
        "print('Test accuracy:', score[1])"
      ],
      "execution_count": 39,
      "outputs": [
        {
          "output_type": "stream",
          "text": [
            "Test loss: 0.03482230752706528\n",
            "Test accuracy: 0.9886999726295471\n"
          ],
          "name": "stdout"
        }
      ]
    },
    {
      "cell_type": "markdown",
      "metadata": {
        "id": "7izpe0qYu3GM"
      },
      "source": [
        "Change #7: Remove layer 4"
      ]
    },
    {
      "cell_type": "code",
      "metadata": {
        "colab": {
          "base_uri": "https://localhost:8080/"
        },
        "id": "JAwWp2FqoVJK",
        "outputId": "0d19c1e4-b2ca-4d06-b5ed-04ad991ce353"
      },
      "source": [
        "model = Sequential()\r\n",
        "model.add(Conv2D(6, kernel_size=(3, 3),\r\n",
        "                 activation='relu',\r\n",
        "                 input_shape=input_shape))\r\n",
        "model.add(MaxPooling2D(pool_size=(2, 2)))\r\n",
        "model.add(Conv2D(16, (3, 3), activation='relu'))\r\n",
        "model.add(MaxPooling2D(pool_size=(2, 2)))\r\n",
        "model.add(Flatten())\r\n",
        "model.add(Dense(120, activation='relu'))\r\n",
        "\r\n",
        "\r\n",
        "model.add(Dense(num_classes, activation='softmax'))\r\n",
        "\r\n",
        "# https://keras.io/optimizers/ \r\n",
        "model.compile(loss=keras.losses.categorical_crossentropy,\r\n",
        "              optimizer=keras.optimizers.Adadelta(lr=1.0, rho=0.95, epsilon=None, decay=0.0),\r\n",
        "              metrics=['accuracy'])\r\n",
        "\r\n",
        "model.fit(x_train, y_train,\r\n",
        "          batch_size=batch_size,\r\n",
        "          epochs=epochs,\r\n",
        "          verbose=1,\r\n",
        "          validation_data=(x_test, y_test))"
      ],
      "execution_count": 40,
      "outputs": [
        {
          "output_type": "stream",
          "text": [
            "Epoch 1/12\n",
            "469/469 [==============================] - 21s 45ms/step - loss: 0.2994 - accuracy: 0.9083 - val_loss: 0.0914 - val_accuracy: 0.9722\n",
            "Epoch 2/12\n",
            "469/469 [==============================] - 21s 45ms/step - loss: 0.0816 - accuracy: 0.9746 - val_loss: 0.0596 - val_accuracy: 0.9809\n",
            "Epoch 3/12\n",
            "469/469 [==============================] - 21s 46ms/step - loss: 0.0589 - accuracy: 0.9819 - val_loss: 0.0499 - val_accuracy: 0.9839\n",
            "Epoch 4/12\n",
            "469/469 [==============================] - 21s 45ms/step - loss: 0.0465 - accuracy: 0.9857 - val_loss: 0.0440 - val_accuracy: 0.9857\n",
            "Epoch 5/12\n",
            "469/469 [==============================] - 21s 45ms/step - loss: 0.0383 - accuracy: 0.9888 - val_loss: 0.0449 - val_accuracy: 0.9852\n",
            "Epoch 6/12\n",
            "469/469 [==============================] - 22s 46ms/step - loss: 0.0326 - accuracy: 0.9900 - val_loss: 0.0456 - val_accuracy: 0.9850\n",
            "Epoch 7/12\n",
            "469/469 [==============================] - 21s 45ms/step - loss: 0.0277 - accuracy: 0.9915 - val_loss: 0.0472 - val_accuracy: 0.9856\n",
            "Epoch 8/12\n",
            "469/469 [==============================] - 21s 44ms/step - loss: 0.0248 - accuracy: 0.9925 - val_loss: 0.0391 - val_accuracy: 0.9876\n",
            "Epoch 9/12\n",
            "469/469 [==============================] - 21s 44ms/step - loss: 0.0213 - accuracy: 0.9937 - val_loss: 0.0361 - val_accuracy: 0.9885\n",
            "Epoch 10/12\n",
            "469/469 [==============================] - 21s 44ms/step - loss: 0.0184 - accuracy: 0.9945 - val_loss: 0.0343 - val_accuracy: 0.9886\n",
            "Epoch 11/12\n",
            "469/469 [==============================] - 21s 45ms/step - loss: 0.0168 - accuracy: 0.9946 - val_loss: 0.0354 - val_accuracy: 0.9897\n",
            "Epoch 12/12\n",
            "469/469 [==============================] - 21s 45ms/step - loss: 0.0151 - accuracy: 0.9953 - val_loss: 0.0403 - val_accuracy: 0.9865\n"
          ],
          "name": "stdout"
        },
        {
          "output_type": "execute_result",
          "data": {
            "text/plain": [
              "<tensorflow.python.keras.callbacks.History at 0x7fa732ba3fd0>"
            ]
          },
          "metadata": {
            "tags": []
          },
          "execution_count": 40
        }
      ]
    },
    {
      "cell_type": "code",
      "metadata": {
        "colab": {
          "base_uri": "https://localhost:8080/"
        },
        "id": "9Qw9sWlxvBJP",
        "outputId": "351162b8-0154-4209-cdef-ebab16bef2a8"
      },
      "source": [
        "score = model.evaluate(x_test, y_test, verbose=0)\r\n",
        "print('Test loss:', score[0])\r\n",
        "print('Test accuracy:', score[1])"
      ],
      "execution_count": 41,
      "outputs": [
        {
          "output_type": "stream",
          "text": [
            "Test loss: 0.040339238941669464\n",
            "Test accuracy: 0.9865000247955322\n"
          ],
          "name": "stdout"
        }
      ]
    },
    {
      "cell_type": "markdown",
      "metadata": {
        "id": "1OMdzfnJw9GS"
      },
      "source": [
        "Change #8: 10 Feature Maps in 1st Hidden Layer"
      ]
    },
    {
      "cell_type": "code",
      "metadata": {
        "colab": {
          "base_uri": "https://localhost:8080/"
        },
        "id": "aZPu7CBPvC2U",
        "outputId": "34ccaab1-e13f-4195-a3dd-fa69c5f44342"
      },
      "source": [
        "model = Sequential()\r\n",
        "model.add(Conv2D(10, kernel_size=(3, 3),\r\n",
        "                 activation='relu',\r\n",
        "                 input_shape=input_shape))\r\n",
        "model.add(MaxPooling2D(pool_size=(2, 2)))\r\n",
        "model.add(Conv2D(16, (3, 3), activation='relu'))\r\n",
        "model.add(MaxPooling2D(pool_size=(2, 2)))\r\n",
        "model.add(Flatten())\r\n",
        "model.add(Dense(120, activation='relu'))\r\n",
        "model.add(Dense(84, activation='relu'))\r\n",
        "\r\n",
        "\r\n",
        "model.add(Dense(num_classes, activation='softmax'))\r\n",
        "\r\n",
        "# https://keras.io/optimizers/ \r\n",
        "model.compile(loss=keras.losses.categorical_crossentropy,\r\n",
        "              optimizer=keras.optimizers.Adadelta(lr=0.9, rho=0.95, epsilon=None, decay=0.0),\r\n",
        "              metrics=['accuracy'])\r\n",
        "\r\n",
        "model.fit(x_train, y_train,\r\n",
        "          batch_size=batch_size,\r\n",
        "          epochs=epochs,\r\n",
        "          verbose=1,\r\n",
        "          validation_data=(x_test, y_test))"
      ],
      "execution_count": 44,
      "outputs": [
        {
          "output_type": "stream",
          "text": [
            "Epoch 1/12\n",
            "469/469 [==============================] - 21s 45ms/step - loss: 0.2902 - accuracy: 0.9103 - val_loss: 0.0886 - val_accuracy: 0.9729\n",
            "Epoch 2/12\n",
            "469/469 [==============================] - 21s 44ms/step - loss: 0.0836 - accuracy: 0.9736 - val_loss: 0.0710 - val_accuracy: 0.9766\n",
            "Epoch 3/12\n",
            "469/469 [==============================] - 21s 44ms/step - loss: 0.0593 - accuracy: 0.9816 - val_loss: 0.0513 - val_accuracy: 0.9821\n",
            "Epoch 4/12\n",
            "469/469 [==============================] - 21s 45ms/step - loss: 0.0459 - accuracy: 0.9859 - val_loss: 0.0481 - val_accuracy: 0.9837\n",
            "Epoch 5/12\n",
            "469/469 [==============================] - 21s 45ms/step - loss: 0.0381 - accuracy: 0.9878 - val_loss: 0.0450 - val_accuracy: 0.9846\n",
            "Epoch 6/12\n",
            "469/469 [==============================] - 21s 45ms/step - loss: 0.0314 - accuracy: 0.9904 - val_loss: 0.0360 - val_accuracy: 0.9880\n",
            "Epoch 7/12\n",
            "469/469 [==============================] - 21s 45ms/step - loss: 0.0262 - accuracy: 0.9915 - val_loss: 0.0362 - val_accuracy: 0.9882\n",
            "Epoch 8/12\n",
            "469/469 [==============================] - 21s 45ms/step - loss: 0.0229 - accuracy: 0.9929 - val_loss: 0.0337 - val_accuracy: 0.9892\n",
            "Epoch 9/12\n",
            "469/469 [==============================] - 21s 45ms/step - loss: 0.0190 - accuracy: 0.9940 - val_loss: 0.0358 - val_accuracy: 0.9881\n",
            "Epoch 10/12\n",
            "469/469 [==============================] - 21s 45ms/step - loss: 0.0164 - accuracy: 0.9948 - val_loss: 0.0436 - val_accuracy: 0.9875\n",
            "Epoch 11/12\n",
            "469/469 [==============================] - 21s 45ms/step - loss: 0.0137 - accuracy: 0.9959 - val_loss: 0.0420 - val_accuracy: 0.9885\n",
            "Epoch 12/12\n",
            "469/469 [==============================] - 21s 44ms/step - loss: 0.0120 - accuracy: 0.9962 - val_loss: 0.0354 - val_accuracy: 0.9897\n"
          ],
          "name": "stdout"
        },
        {
          "output_type": "execute_result",
          "data": {
            "text/plain": [
              "<tensorflow.python.keras.callbacks.History at 0x7fa7405c1588>"
            ]
          },
          "metadata": {
            "tags": []
          },
          "execution_count": 44
        }
      ]
    },
    {
      "cell_type": "code",
      "metadata": {
        "colab": {
          "base_uri": "https://localhost:8080/"
        },
        "id": "T--Bhy7MxDYx",
        "outputId": "20c67e79-b081-4220-dbb1-139b65c3bb7b"
      },
      "source": [
        "score = model.evaluate(x_test, y_test, verbose=0)\r\n",
        "print('Test loss:', score[0])\r\n",
        "print('Test accuracy:', score[1])"
      ],
      "execution_count": 43,
      "outputs": [
        {
          "output_type": "stream",
          "text": [
            "Test loss: 0.03722766786813736\n",
            "Test accuracy: 0.9890000224113464\n"
          ],
          "name": "stdout"
        }
      ]
    },
    {
      "cell_type": "code",
      "metadata": {
        "id": "fB6tz6bWxFOK"
      },
      "source": [
        ""
      ],
      "execution_count": null,
      "outputs": []
    }
  ]
}